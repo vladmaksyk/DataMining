{
 "cells": [
  {
   "cell_type": "code",
   "execution_count": 1,
   "metadata": {},
   "outputs": [],
   "source": [
    "import pandas as pd\n",
    "import json\n",
    "from nltk import ngrams\n",
    "import sys\n",
    "import numpy as np\n",
    "import itertools\n",
    "import csv\n",
    "import re\n",
    "from scipy import sparse\n",
    "from copy import copy, deepcopy\n",
    "import time\n"
   ]
  },
  {
   "cell_type": "code",
   "execution_count": 72,
   "metadata": {},
   "outputs": [],
   "source": [
    "datafile = \"data/assignment3_aricles.json\""
   ]
  },
  {
   "cell_type": "code",
   "execution_count": 73,
   "metadata": {},
   "outputs": [],
   "source": [
    "articles = pd.read_json(datafile, orient='records', encoding=\"utf-8\")"
   ]
  },
  {
   "cell_type": "code",
   "execution_count": 74,
   "metadata": {},
   "outputs": [
    {
     "data": {
      "text/html": [
       "<div>\n",
       "<style scoped>\n",
       "    .dataframe tbody tr th:only-of-type {\n",
       "        vertical-align: middle;\n",
       "    }\n",
       "\n",
       "    .dataframe tbody tr th {\n",
       "        vertical-align: top;\n",
       "    }\n",
       "\n",
       "    .dataframe thead th {\n",
       "        text-align: right;\n",
       "    }\n",
       "</style>\n",
       "<table border=\"1\" class=\"dataframe\">\n",
       "  <thead>\n",
       "    <tr style=\"text-align: right;\">\n",
       "      <th></th>\n",
       "      <th>Content</th>\n",
       "      <th>Title</th>\n",
       "      <th>article_id</th>\n",
       "    </tr>\n",
       "  </thead>\n",
       "  <tbody>\n",
       "    <tr>\n",
       "      <th>0</th>\n",
       "      <td>Tikcro enters into research and license agreem...</td>\n",
       "      <td>Tikcro enters into research and license agreem...</td>\n",
       "      <td>0</td>\n",
       "    </tr>\n",
       "    <tr>\n",
       "      <th>1</th>\n",
       "      <td>A North Carolina woman is trying to warn other...</td>\n",
       "      <td>Facebook Friend Request Nearly Cost One North ...</td>\n",
       "      <td>1</td>\n",
       "    </tr>\n",
       "    <tr>\n",
       "      <th>2</th>\n",
       "      <td>LONDON--(BUSINESS WIRE)--\\n\\nAMLIN plc\\n\\nTOTA...</td>\n",
       "      <td>Amlin plc UK Regulatory Announcement: Total Vo...</td>\n",
       "      <td>2</td>\n",
       "    </tr>\n",
       "    <tr>\n",
       "      <th>3</th>\n",
       "      <td>Khaleda asks for security\\n\\n\\n\\nBNP Chairpers...</td>\n",
       "      <td>Khaleda asks for security</td>\n",
       "      <td>3</td>\n",
       "    </tr>\n",
       "    <tr>\n",
       "      <th>4</th>\n",
       "      <td>Liberian Health Clinics Reopen Slowly with Ren...</td>\n",
       "      <td>Liberian Health Clinics Reopen Slowly with Ren...</td>\n",
       "      <td>4</td>\n",
       "    </tr>\n",
       "  </tbody>\n",
       "</table>\n",
       "</div>"
      ],
      "text/plain": [
       "                                             Content  \\\n",
       "0  Tikcro enters into research and license agreem...   \n",
       "1  A North Carolina woman is trying to warn other...   \n",
       "2  LONDON--(BUSINESS WIRE)--\\n\\nAMLIN plc\\n\\nTOTA...   \n",
       "3  Khaleda asks for security\\n\\n\\n\\nBNP Chairpers...   \n",
       "4  Liberian Health Clinics Reopen Slowly with Ren...   \n",
       "\n",
       "                                               Title  article_id  \n",
       "0  Tikcro enters into research and license agreem...           0  \n",
       "1  Facebook Friend Request Nearly Cost One North ...           1  \n",
       "2  Amlin plc UK Regulatory Announcement: Total Vo...           2  \n",
       "3                          Khaleda asks for security           3  \n",
       "4  Liberian Health Clinics Reopen Slowly with Ren...           4  "
      ]
     },
     "execution_count": 74,
     "metadata": {},
     "output_type": "execute_result"
    }
   ],
   "source": [
    "articles.head()"
   ]
  },
  {
   "cell_type": "code",
   "execution_count": 89,
   "metadata": {},
   "outputs": [],
   "source": [
    "#You can use n-gram at word level for this task\n",
    "#try with different n-gram values \n",
    "# You can use ngrams from nltk for this\n",
    "\n",
    "def GetShingels(articles, size):\n",
    "    Shingle_DocId = []\n",
    "    row = 0\n",
    "    for docID in range(len(articles.Content)):\n",
    "        row+=1\n",
    "        print(row)\n",
    "        shingles = []\n",
    "        for i in range(len(articles.Content[docID])-(size-1)):\n",
    "            shingles.append(articles.Content[docID][i:i+size])\n",
    "            \n",
    "        ShingleSet = set(shingles)\n",
    "         \n",
    "        for shingle in ShingleSet:\n",
    "            Shingle_DocId.append([shingle, docID])\n",
    "    \n",
    "    return np.asarray(Shingle_DocId)"
   ]
  },
  {
   "cell_type": "code",
   "execution_count": 1,
   "metadata": {},
   "outputs": [],
   "source": [
    "Shingle_DocId = GetShingels(articles, 2)"
   ]
  },
  {
   "cell_type": "code",
   "execution_count": 91,
   "metadata": {},
   "outputs": [
    {
     "data": {
      "text/plain": [
       "(17525672, 2)"
      ]
     },
     "execution_count": 91,
     "metadata": {},
     "output_type": "execute_result"
    }
   ],
   "source": [
    "Shingle_DocId.shape"
   ]
  },
  {
   "cell_type": "code",
   "execution_count": null,
   "metadata": {},
   "outputs": [],
   "source": []
  },
  {
   "cell_type": "markdown",
   "metadata": {},
   "source": [
    "## Convert n-grams into binary vector representation for each document. You can do some optimzations if the matrix is too big.\n",
    "For example, \n",
    "* Select top 10000 most frequent n-grams.\n",
    "* You may also try smaller values of n (like 2 or 3) which result in fewer n-grams.\n",
    "* Finally, you can also try sparse matrix representation. Like csr_matrix from  scipy.sparse."
   ]
  },
  {
   "cell_type": "code",
   "execution_count": 92,
   "metadata": {},
   "outputs": [],
   "source": [
    "def getBinaryMatrix(articles, Shingle_DocId):\n",
    "\n",
    "    DocID_array = []\n",
    "    Shingle_array_index = []\n",
    "    ShingleDataBase = {}\n",
    "    unique_index = 0\n",
    "        \n",
    "    for shingle, DocId in Shingle_DocId:\n",
    "        DocID_array.append(int(DocId))\n",
    "        \n",
    "        if shingle in ShingleDataBase:\n",
    "            Shingle_array_index.append(ShingleDataBase[shingle])\n",
    "\n",
    "        else:\n",
    "            ShingleDataBase[shingle] = unique_index\n",
    "            Shingle_array_index.append(ShingleDataBase[shingle])\n",
    "            unique_index += 1\n",
    "\n",
    "\n",
    "    row = np.asarray(Shingle_array_index)\n",
    "    col = np.asarray(DocID_array)\n",
    "    values = np.ones(len(Shingle_DocId))\n",
    "    \n",
    "    sparse_matrix = sparse.csc_matrix((values, (row, col)))\n",
    "    \n",
    "    return sparse_matrix\n"
   ]
  },
  {
   "cell_type": "code",
   "execution_count": 93,
   "metadata": {},
   "outputs": [],
   "source": [
    "Sparse_matrix = getBinaryMatrix(articles, Shingle_DocId)"
   ]
  },
  {
   "cell_type": "code",
   "execution_count": 94,
   "metadata": {},
   "outputs": [
    {
     "data": {
      "text/plain": [
       "(14077, 48505)"
      ]
     },
     "execution_count": 94,
     "metadata": {},
     "output_type": "execute_result"
    }
   ],
   "source": [
    "Sparse_matrix.shape"
   ]
  },
  {
   "cell_type": "code",
   "execution_count": 95,
   "metadata": {},
   "outputs": [],
   "source": [
    "Smatrix = Sparse_matrix.toarray()"
   ]
  },
  {
   "cell_type": "markdown",
   "metadata": {},
   "source": [
    "## We need hash function that maps integers 0, 1, . . . , k − 1 to bucket numbers 0 through k − 1. It might be impossible to avoid collisions but as long as the collions are too many it won't matter much.\n",
    "\n",
    "* The simplest would be using the builtin hash() function, it can be for example, hash(rownumber) % Numberofbuckets\n",
    "* You can generate several of these hash functions by xoring a random integer (hash(rownumber)^randint) % Numberofbuckets\n",
    "* It can also be a as simple as (rownumber * randint) % Numberofbuckets"
   ]
  },
  {
   "cell_type": "code",
   "execution_count": 96,
   "metadata": {},
   "outputs": [],
   "source": [
    "#First determine the shape of our binary matrix\n",
    "AmountOfShingles, NumOfDocs = Sparse_matrix.shape"
   ]
  },
  {
   "cell_type": "code",
   "execution_count": 97,
   "metadata": {},
   "outputs": [],
   "source": [
    "# Generating hash functions by permuting\n",
    "# This function generates the hash values. \n",
    "# Where every row speciefies the permutation of the rows in the binary matrix\n",
    "numOfHashVal = 25\n",
    "\n",
    "def GenerateHashValues(numOfHashVal, AmountOfShingles):\n",
    "    h = np.empty([numOfHashVal, AmountOfShingles], dtype=int)\n",
    "    for i in range (numOfHashVal):\n",
    "        h[i] = np.random.permutation(AmountOfShingles)\n",
    "    return h\n",
    "\n",
    "HashValues = GenerateHashValues(numOfHashVal, AmountOfShingles)"
   ]
  },
  {
   "cell_type": "code",
   "execution_count": 98,
   "metadata": {},
   "outputs": [
    {
     "data": {
      "text/plain": [
       "(25, 14077)"
      ]
     },
     "execution_count": 98,
     "metadata": {},
     "output_type": "execute_result"
    }
   ],
   "source": [
    "HashValues.shape"
   ]
  },
  {
   "cell_type": "markdown",
   "metadata": {},
   "source": [
    "## Compute minhash following the faster algorithm from the lecture "
   ]
  },
  {
   "cell_type": "code",
   "execution_count": 2,
   "metadata": {},
   "outputs": [],
   "source": [
    "# works fastest for now\n",
    "def CreateSignatureMatrix (numOfHashVal, NumOfDocs, HashValues, matrix):\n",
    "    SignatureMatrix = np.zeros((numOfHashVal, NumOfDocs))\n",
    "    \n",
    "    for i ,hashrow in enumerate(HashValues):\n",
    "        start = time.time()\n",
    "        print(\"Started the loop\")\n",
    "        for col in range(NumOfDocs): \n",
    "            #print(\"One col done\")\n",
    "            \n",
    "            temp = np.array([])\n",
    "            minimum = len(hashrow)\n",
    "            for row in range(len(hashrow)):   \n",
    "                if matrix[row, col]: \n",
    "                    if not hashrow[row]:\n",
    "                        SignatureMatrix[i][col] = hashrow[row]\n",
    "                        break\n",
    "                    else:\n",
    "                        if hashrow[row] < minimum:\n",
    "                            minimum = hashrow[row]\n",
    "                            SignatureMatrix[i][col] = hashrow[row] \n",
    "                            \n",
    "        stop = time.time()\n",
    "        print(\"The iteration took :\", stop-start)\n",
    "    \n",
    "    return SignatureMatrix\n",
    "\n",
    "SignatureMatrix = CreateSignatureMatrix(numOfHashVal, NumOfDocs, HashValues, Smatrix)"
   ]
  },
  {
   "cell_type": "code",
   "execution_count": 100,
   "metadata": {},
   "outputs": [
    {
     "data": {
      "text/plain": [
       "(25, 48505)"
      ]
     },
     "execution_count": 100,
     "metadata": {},
     "output_type": "execute_result"
    }
   ],
   "source": [
    "SignatureMatrix.shape"
   ]
  },
  {
   "cell_type": "code",
   "execution_count": 101,
   "metadata": {},
   "outputs": [],
   "source": [
    "Signature = np.asarray(SignatureMatrix)"
   ]
  },
  {
   "cell_type": "markdown",
   "metadata": {},
   "source": [
    "## Hash signature bands into buckets. Find a way to combine all the signature values in a band and hash them into a number of buckets ususally very high.\n",
    "* Easiest way is to add all the signature values in the bucket and use a similar hash function like before"
   ]
  },
  {
   "cell_type": "code",
   "execution_count": 105,
   "metadata": {},
   "outputs": [],
   "source": [
    "def LSH (Signature, numofhashfunc, NumOfdocs):\n",
    "    \n",
    "    rows, collums = Signature.shape\n",
    "    \n",
    "    bands = 5\n",
    "    RowsPerBand = 5\n",
    "    bucketsNum = 100000\n",
    "    СandidatePairs = [[] for x in range (NumOfdocs)]\n",
    "    \n",
    "    for band in range (bands):\n",
    "        buckets = [[] for x in range(bucketsNum)] \n",
    "        # Sum the signatures of each user in the band and use that as the bucket number   \n",
    "        for DocId in range (NumOfdocs):\n",
    "            SigSum = 0\n",
    "            for row in range (RowsPerBand):\n",
    "                SigSum += int(Signature[row + band * RowsPerBand][DocId])\n",
    "            bucket = SigSum\n",
    "            buckets[bucket].append(DocId)\n",
    "\n",
    "\n",
    "        # For each bucket we check the similarities of all the pairs within that bucket\n",
    "        for bucketId in range (bucketsNum):\n",
    "            NumOfDocsInBucket = len(buckets[bucketId])  # checking amount of docids in a bucket\n",
    "            if NumOfDocsInBucket > 1:\n",
    "                for doc1, doc2 in itertools.combinations(buckets[bucketId], 2):\n",
    "\n",
    "                    sig1 = Signature[:,doc1]\n",
    "                    sig2 = Signature[:,doc2]\n",
    "                    colisions = np.sum(sig1 == sig2)\n",
    "                    similarity =  float(colisions)/(2 * numofhashfunc - colisions)\n",
    "                    if similarity > 0.8:\n",
    "                        СandidatePairs[doc1].append(doc2)\n",
    "                        \n",
    "    return СandidatePairs\n",
    "\n",
    "                    \n",
    "СandidatePairs = LSH(Signature, numOfHashVal, NumOfDocs)"
   ]
  },
  {
   "cell_type": "markdown",
   "metadata": {},
   "source": [
    "## Tune parameters to make sure the threshold is appropriate.\n",
    "## plot the probability of two similar items falling in same bucked for different threshold values"
   ]
  },
  {
   "cell_type": "code",
   "execution_count": 2,
   "metadata": {},
   "outputs": [
    {
     "data": {
      "text/plain": [
       "0.7247796636776955"
      ]
     },
     "execution_count": 2,
     "metadata": {},
     "output_type": "execute_result"
    }
   ],
   "source": [
    "r = 5\n",
    "b = 5\n",
    "\n",
    "t = (1/b)**(1/r)\n",
    "t"
   ]
  },
  {
   "cell_type": "code",
   "execution_count": 30,
   "metadata": {},
   "outputs": [
    {
     "data": {
      "image/png": "[encoded data removed]",
      "text/plain": [
       "<Figure size 800x640 with 1 Axes>"
      ]
     },
     "metadata": {},
     "output_type": "display_data"
    }
   ],
   "source": [
    "import matplotlib.pyplot as plt\n",
    "\n",
    "\n",
    "prob = np.arange(0, 1, 0.01)\n",
    "similarity1 = []\n",
    "similarity2 = []\n",
    "similarity3 = []\n",
    "similarity4 = []\n",
    "\n",
    "for x in prob:\n",
    "    similarity1.append(1-(1-x**5)**30)  # r = 5, b = 30\n",
    "    similarity2.append(1-(1-x**10)**1)  # r = 10, b = 11\n",
    "    similarity3.append(1-(1-x**1)**8)  # r = 1, b = 8\n",
    "    similarity4.append(1-(1-x**10)**20)  # r = 10, b = 20\n",
    "\n",
    "fig=plt.figure(figsize=(10, 8), dpi= 80, facecolor='w', edgecolor='k')\n",
    "    \n",
    "    \n",
    "plt.plot(prob, similarity1)\n",
    "plt.plot(prob, similarity2)\n",
    "plt.plot(prob, similarity3)\n",
    "plt.plot(prob, similarity4)\n",
    "\n",
    "plt.xlabel('Similarity of two sets ')\n",
    "plt.ylabel('Probability')\n",
    "plt.grid(True)\n",
    "\n",
    "plt.show()"
   ]
  },
  {
   "cell_type": "markdown",
   "metadata": {},
   "source": [
    "## Write the nearest neibhors of each document to submissions.csv (comma separated, first column is the current document followed by a list of nearest neighbors) file and get the score"
   ]
  },
  {
   "cell_type": "code",
   "execution_count": 106,
   "metadata": {},
   "outputs": [],
   "source": [
    "# Checking the real similarity and outputing the results\n",
    "\n",
    "f1 = open('submissions.csv','w')\n",
    "for i in range (len(СandidatePairs)):\n",
    "    if len(СandidatePairs[i]) > 0:\n",
    "        СandidatePairs[i] = list(set(СandidatePairs[i]))\n",
    "        for j in СandidatePairs[i]:\n",
    "            col1 = Signature[:,i].nonzero()\n",
    "            col2 = Signature[:,j].nonzero()\n",
    "            intersect = len(np.intersect1d(col1,col2))\n",
    "            total = intersect + len(np.setxor1d(col1,col2))\n",
    "            \n",
    "            if total != 0:\n",
    "                real_sim = intersect/total\n",
    "                if real_sim > 0.9:\n",
    "                    \n",
    "                    f1.write(str(i) + \",\" + str(j) + \"\\n\")\n",
    "                    \n",
    "f1.close()"
   ]
  },
  {
   "cell_type": "code",
   "execution_count": null,
   "metadata": {},
   "outputs": [],
   "source": []
  }
 ],
 "metadata": {
  "kernelspec": {
   "display_name": "Python 3",
   "language": "python",
   "name": "python3"
  },
  "language_info": {
   "codemirror_mode": {
    "name": "ipython",
    "version": 3
   },
   "file_extension": ".py",
   "mimetype": "text/x-python",
   "name": "python",
   "nbconvert_exporter": "python",
   "pygments_lexer": "ipython3",
   "version": "3.7.1"
  }
 },
 "nbformat": 4,
 "nbformat_minor": 2
}
